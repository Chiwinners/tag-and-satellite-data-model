{
 "cells": [
  {
   "cell_type": "code",
   "execution_count": null,
   "id": "9bb87940",
   "metadata": {},
   "outputs": [
    {
     "name": "stdout",
     "output_type": "stream",
     "text": [
      "SW: 12.00284,-81.99937\n",
      "NE: 14.98947,-79.83031\n"
     ]
    }
   ],
   "source": [
    "import geopandas as gpd\n",
    "import fiona\n",
    "\n",
    "# Ruta a la geodatabase\n",
    "gdb = \"../../downloads/seaflower/WDPA_WDOECM_Oct2025_Public_555636411.gdb\"\n",
    "\n",
    "# Carga la capa de polígonos\n",
    "gdf = gpd.read_file(gdb, layer=\"WDPA_WDOECM_poly_Oct2025_555636411\")\n",
    "\n",
    "# Asegura WGS84 (lat/lon)\n",
    "if gdf.crs is None or gdf.crs.to_epsg() != 4326:\n",
    "    gdf = gdf.to_crs(4326)\n",
    "\n",
    "# Calcular la envolvente (lon_min, lat_min, lon_max, lat_max)\n",
    "minx, miny, maxx, maxy = gdf.total_bounds\n",
    "\n",
    "# Coordenadas SW y NE (lat, lon)\n",
    "SW = (miny, minx)\n",
    "NE = (maxy, maxx)\n",
    "\n",
    "# Mostrar formateado con 5 decimales\n",
    "print(f\"SW: {SW[0]:.5f},{SW[1]:.5f}\")\n",
    "print(f\"NE: {NE[0]:.5f},{NE[1]:.5f}\")\n"
   ]
  },
  {
   "cell_type": "code",
   "execution_count": 4,
   "id": "7a1cbe78",
   "metadata": {},
   "outputs": [],
   "source": [
    "import folium\n",
    "\n",
    "# Centro aproximado\n",
    "center_lat = (SW[0] + NE[0]) / 2\n",
    "center_lon = (SW[1] + NE[1]) / 2\n",
    "\n",
    "m = folium.Map(location=[center_lat, center_lon], zoom_start=6)\n",
    "\n",
    "# Dibuja el polígono oficial\n",
    "folium.GeoJson(\n",
    "    gdf.geometry,\n",
    "    name=\"Seaflower MPA\",\n",
    "    style_function=lambda x: {\"color\": \"blue\", \"weight\": 2, \"fillOpacity\": 0.2}\n",
    ").add_to(m)\n",
    "\n",
    "# Dibuja el rectángulo envolvente\n",
    "folium.Rectangle(\n",
    "    bounds=[SW, NE],\n",
    "    color=\"red\", fill=False, weight=2, tooltip=\"Bounding box\"\n",
    ").add_to(m)\n",
    "\n",
    "m.save(\"seaflower_check.html\")\n"
   ]
  }
 ],
 "metadata": {
  "kernelspec": {
   "display_name": "Python 3",
   "language": "python",
   "name": "python3"
  },
  "language_info": {
   "codemirror_mode": {
    "name": "ipython",
    "version": 3
   },
   "file_extension": ".py",
   "mimetype": "text/x-python",
   "name": "python",
   "nbconvert_exporter": "python",
   "pygments_lexer": "ipython3",
   "version": "3.12.3"
  }
 },
 "nbformat": 4,
 "nbformat_minor": 5
}
